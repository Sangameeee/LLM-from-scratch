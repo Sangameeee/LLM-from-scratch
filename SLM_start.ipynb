{
  "nbformat": 4,
  "nbformat_minor": 0,
  "metadata": {
    "colab": {
      "provenance": [],
      "authorship_tag": "ABX9TyO+twOhx5BzWAQGKMjN3DPi",
      "include_colab_link": true
    },
    "kernelspec": {
      "name": "python3",
      "display_name": "Python 3"
    },
    "language_info": {
      "name": "python"
    }
  },
  "cells": [
    {
      "cell_type": "markdown",
      "metadata": {
        "id": "view-in-github",
        "colab_type": "text"
      },
      "source": [
        "<a href=\"https://colab.research.google.com/github/Sangameeee/LLM-from-scratch/blob/main/SLM_start.ipynb\" target=\"_parent\"><img src=\"https://colab.research.google.com/assets/colab-badge.svg\" alt=\"Open In Colab\"/></a>"
      ]
    },
    {
      "cell_type": "markdown",
      "source": [
        "tokenizing text\n",
        "\n"
      ],
      "metadata": {
        "id": "gnv4Tyf4sfSp"
      }
    },
    {
      "cell_type": "code",
      "execution_count": null,
      "metadata": {
        "id": "upJVFQUFsJ1-"
      },
      "outputs": [],
      "source": [
        "import os\n",
        "import urllib.request"
      ]
    },
    {
      "cell_type": "code",
      "source": [
        "import os\n",
        "import sys\n",
        "import io\n",
        "import nbformat\n",
        "import types\n",
        "\n",
        "text = \"IOE sucks enginerring is good but department of computer and electronics engineering is shit\"\n",
        "def import_from_notebook():\n",
        "    def import_definitions_from_notebook(fullname, names):\n",
        "        current_dir = os.getcwd()\n",
        "        path = \"Bpetokenizer.ipynb\"\n",
        "        path = os.path.normpath(path)\n",
        "\n",
        "        # Load the notebook\n",
        "        if not os.path.exists(path):\n",
        "            raise FileNotFoundError(f\"Notebook file not found at: {path}\")\n",
        "\n",
        "        with io.open(path, \"r\", encoding=\"utf-8\") as f:\n",
        "            nb = nbformat.read(f, as_version=4)\n",
        "\n",
        "        # Create a module to store the imported functions and classes\n",
        "        mod = types.ModuleType(fullname)\n",
        "        sys.modules[fullname] = mod\n",
        "\n",
        "        # Go through the notebook cells and only execute function or class definitions\n",
        "        for cell in nb.cells:\n",
        "            if cell.cell_type == \"code\":\n",
        "                cell_code = cell.source\n",
        "                for name in names:\n",
        "                    # Check for function or class definitions\n",
        "                    if f\"def {name}\" in cell_code or f\"class {name}\" in cell_code:\n",
        "                        exec(cell_code, mod.__dict__)\n",
        "        return mod\n",
        "\n",
        "    fullname = \"bpe-from-scratch\"\n",
        "    names = [\"BPETokenizerSimple\"]\n",
        "\n",
        "    return import_definitions_from_notebook(fullname, names)"
      ],
      "metadata": {
        "id": "EWIEKVEC5BAZ"
      },
      "execution_count": null,
      "outputs": []
    },
    {
      "cell_type": "code",
      "source": [
        "imported_module = import_from_notebook()\n",
        "BPETokenizerSimple = getattr(imported_module, \"BPETokenizerSimple\", None)\n",
        "\n",
        "tokenizer_gpt2 = BPETokenizerSimple()\n",
        "tokenizer_gpt2.load_vocab_and_merges_from_openai(\n",
        "    vocab_path = \"encoder.json\",\n",
        "    bpe_merges_path = \"vocab.bpe\"\n",
        ")"
      ],
      "metadata": {
        "id": "IND4bbnH5GQe"
      },
      "execution_count": null,
      "outputs": []
    },
    {
      "cell_type": "code",
      "source": [
        "text = \"IOE sucks enginerring is good but department of computer and electronics engineering is shit\"\n",
        "integers = tokenizer_gpt2.encode(text)\n",
        "\n",
        "print(integers)"
      ],
      "metadata": {
        "colab": {
          "base_uri": "https://localhost:8080/"
        },
        "id": "Tw2OBA025KE3",
        "outputId": "480a0192-cbd8-4b2b-aedd-88f5787c8e58"
      },
      "execution_count": null,
      "outputs": [
        {
          "output_type": "stream",
          "name": "stdout",
          "text": [
            "[9399, 36, 22523, 551, 1655, 263, 1806, 318, 922, 475, 5011, 286, 3644, 290, 17075, 8705, 318, 7510]\n"
          ]
        }
      ]
    },
    {
      "cell_type": "code",
      "source": [
        "for i in integers:\n",
        "  print(tokenizer_gpt2.decode([i]))"
      ],
      "metadata": {
        "colab": {
          "base_uri": "https://localhost:8080/"
        },
        "id": "BblA01__Eo2K",
        "outputId": "1650a1f7-2b35-470e-b495-6c9fbb081d6e"
      },
      "execution_count": null,
      "outputs": [
        {
          "output_type": "stream",
          "name": "stdout",
          "text": [
            "IO\n",
            "E\n",
            " sucks\n",
            " en\n",
            "gin\n",
            "er\n",
            "ring\n",
            " is\n",
            " good\n",
            " but\n",
            " department\n",
            " of\n",
            " computer\n",
            " and\n",
            " electronics\n",
            " engineering\n",
            " is\n",
            " shit\n"
          ]
        }
      ]
    }
  ]
}